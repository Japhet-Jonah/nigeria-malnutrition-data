{
  "nbformat": 4,
  "nbformat_minor": 0,
  "metadata": {
    "colab": {
      "provenance": [],
      "authorship_tag": "ABX9TyP1HR2DGYcJT7yg8Uk2fouW",
      "include_colab_link": true
    },
    "kernelspec": {
      "name": "python3",
      "display_name": "Python 3"
    },
    "language_info": {
      "name": "python"
    }
  },
  "cells": [
    {
      "cell_type": "markdown",
      "metadata": {
        "id": "view-in-github",
        "colab_type": "text"
      },
      "source": [
        "<a href=\"https://colab.research.google.com/github/Japhet-Jonah/nigeria-malnutrition-scraper/blob/main/Malnutrition_scraper.ipynb\" target=\"_parent\"><img src=\"https://colab.research.google.com/assets/colab-badge.svg\" alt=\"Open In Colab\"/></a>"
      ]
    },
    {
      "cell_type": "code",
      "source": [
        "pip install requests BeautifulSoup"
      ],
      "metadata": {
        "colab": {
          "base_uri": "https://localhost:8080/"
        },
        "id": "bh3SscchCSf-",
        "outputId": "6278e71e-4894-4f0c-b667-286e37218499"
      },
      "execution_count": 4,
      "outputs": [
        {
          "output_type": "stream",
          "name": "stdout",
          "text": [
            "Requirement already satisfied: requests in /usr/local/lib/python3.11/dist-packages (2.32.3)\n",
            "Collecting BeautifulSoup\n",
            "  Downloading BeautifulSoup-3.2.2.tar.gz (32 kB)\n",
            "  \u001b[1;31merror\u001b[0m: \u001b[1msubprocess-exited-with-error\u001b[0m\n",
            "  \n",
            "  \u001b[31m×\u001b[0m \u001b[32mpython setup.py egg_info\u001b[0m did not run successfully.\n",
            "  \u001b[31m│\u001b[0m exit code: \u001b[1;36m1\u001b[0m\n",
            "  \u001b[31m╰─>\u001b[0m See above for output.\n",
            "  \n",
            "  \u001b[1;35mnote\u001b[0m: This error originates from a subprocess, and is likely not a problem with pip.\n",
            "  Preparing metadata (setup.py) ... \u001b[?25l\u001b[?25herror\n",
            "\u001b[1;31merror\u001b[0m: \u001b[1mmetadata-generation-failed\u001b[0m\n",
            "\n",
            "\u001b[31m×\u001b[0m Encountered error while generating package metadata.\n",
            "\u001b[31m╰─>\u001b[0m See above for output.\n",
            "\n",
            "\u001b[1;35mnote\u001b[0m: This is an issue with the package mentioned above, not pip.\n",
            "\u001b[1;36mhint\u001b[0m: See above for details.\n"
          ]
        }
      ]
    },
    {
      "cell_type": "code",
      "source": [
        "import requests\n",
        "import pandas as pd"
      ],
      "metadata": {
        "id": "RWX0ZbQcCovj"
      },
      "execution_count": 5,
      "outputs": []
    },
    {
      "cell_type": "code",
      "source": [
        "dataset_url = \"https://data.humdata.org/dataset/3797b5fd-9ff3-4971-8e14-81817a335789/resource/c3fd5b8e-999d-4f6a-aadf-cb9ab42a05a3/download/nigerian-acute-malnutrition-2024-april-2025.xlsx\""
      ],
      "metadata": {
        "id": "DI3LnngACo17"
      },
      "execution_count": 6,
      "outputs": []
    },
    {
      "cell_type": "code",
      "source": [
        "response = requests.get(dataset_url)\n",
        "file_name = \"nigeria_acute_malnutrition.xlsx\""
      ],
      "metadata": {
        "id": "igUukaqeCSlf"
      },
      "execution_count": 7,
      "outputs": []
    },
    {
      "cell_type": "code",
      "source": [
        "with open(file_name, \"wb\") as file:\n",
        "    file.write(response.content)\n",
        "\n",
        "print(f\"✅ Dataset downloaded and saved as {file_name}\")"
      ],
      "metadata": {
        "colab": {
          "base_uri": "https://localhost:8080/"
        },
        "id": "0MQbcpqZCSpZ",
        "outputId": "8e2569d9-5fc2-432b-c52d-e60c9b41968b"
      },
      "execution_count": 8,
      "outputs": [
        {
          "output_type": "stream",
          "name": "stdout",
          "text": [
            "✅ Dataset downloaded and saved as nigeria_acute_malnutrition.xlsx\n"
          ]
        }
      ]
    },
    {
      "cell_type": "code",
      "source": [
        "df = pd.read_excel(file_name)\n",
        "print(\"📊 Dataset preview:\")\n",
        "print(df.head())"
      ],
      "metadata": {
        "colab": {
          "base_uri": "https://localhost:8080/"
        },
        "id": "MOEXS-s7CSsN",
        "outputId": "6181e1ef-a1d9-4fe4-ecc3-a419b9543721"
      },
      "execution_count": 9,
      "outputs": [
        {
          "output_type": "stream",
          "name": "stdout",
          "text": [
            "📊 Dataset preview:\n",
            "   Unnamed: 0  \\\n",
            "0         NaN   \n",
            "1         NaN   \n",
            "2         NaN   \n",
            "3  NORTH-EAST   \n",
            "4         NaN   \n",
            "\n",
            "  TOTAL NUMBER OF CASES OF CHILDREN 0-59 MONTHS AND PREGNANT AND LACTATING WOMEN AFFECTED BY ACUTE MALNUTRITION AND IN NEED OF TREATMENT (NORTHEAST AND NORTHWEST NIGERIA) FROM MAY 2024 TO APRIL 2025  \\\n",
            "0                                                NaN                                                                                                                                                     \n",
            "1                                              State                                                                                                                                                     \n",
            "2                                         #adm1+name                                                                                                                                                     \n",
            "3                                            Adamawa                                                                                                                                                     \n",
            "4                                            Adamawa                                                                                                                                                     \n",
            "\n",
            "         Unnamed: 2             Unnamed: 3                  Unnamed: 4  \\\n",
            "0               NaN  # of Children under 5                         NaN   \n",
            "1            Domain                Total #  Estimated\\n# of GAM\\ncases   \n",
            "2               NaN   #indicator+CU5+Total              #indicator+GAM   \n",
            "3  Southern Adamawa                 616196                      246786   \n",
            "4  Northern Adamawa                 387806                      155316   \n",
            "\n",
            "                         Unnamed: 5                       Unnamed: 6  \\\n",
            "0                               NaN                              NaN   \n",
            "1  Estimated\\n# of Girls\\nGAM cases  Estimated\\n# of Boys\\nGAM cases   \n",
            "2                               NaN                              NaN   \n",
            "3                            135733                           111054   \n",
            "4                             85424                            69892   \n",
            "\n",
            "                   Unnamed: 7                  Unnamed: 8  \\\n",
            "0                         NaN                         NaN   \n",
            "1  Estimated\\n# of MAM\\ncases  Estimated\\n# of SAM\\ncases   \n",
            "2              #indicator+MAM              #indicator+SAM   \n",
            "3                      191329                       55458   \n",
            "4                      106453                       48864   \n",
            "\n",
            "                                 Unnamed: 9                 Unnamed: 10  \n",
            "0  # of Pregnant and \\nBreastfeeding\\nWomen                         NaN  \n",
            "1                                   Total #  Estimated\\n# of GAM\\ncases  \n",
            "2                      #indicator+PLW+Total                         NaN  \n",
            "3                                    246478                       35986  \n",
            "4                                    155123                       24664  \n"
          ]
        }
      ]
    },
    {
      "cell_type": "code",
      "source": [
        "print(\"\\nDataset Info:\")\n",
        "print(df.info())"
      ],
      "metadata": {
        "colab": {
          "base_uri": "https://localhost:8080/"
        },
        "id": "03oL4w3KCSus",
        "outputId": "70dae251-8e0e-431e-9ed9-85da2b027d77"
      },
      "execution_count": 10,
      "outputs": [
        {
          "output_type": "stream",
          "name": "stdout",
          "text": [
            "\n",
            "Dataset Info:\n",
            "<class 'pandas.core.frame.DataFrame'>\n",
            "RangeIndex: 28 entries, 0 to 27\n",
            "Data columns (total 11 columns):\n",
            " #   Column                                                                                                                                                                                                Non-Null Count  Dtype \n",
            "---  ------                                                                                                                                                                                                --------------  ----- \n",
            " 0   Unnamed: 0                                                                                                                                                                                            2 non-null      object\n",
            " 1   TOTAL NUMBER OF CASES OF CHILDREN 0-59 MONTHS AND PREGNANT AND LACTATING WOMEN AFFECTED BY ACUTE MALNUTRITION AND IN NEED OF TREATMENT (NORTHEAST AND NORTHWEST NIGERIA) FROM MAY 2024 TO APRIL 2025  27 non-null     object\n",
            " 2   Unnamed: 2                                                                                                                                                                                            26 non-null     object\n",
            " 3   Unnamed: 3                                                                                                                                                                                            28 non-null     object\n",
            " 4   Unnamed: 4                                                                                                                                                                                            27 non-null     object\n",
            " 5   Unnamed: 5                                                                                                                                                                                            26 non-null     object\n",
            " 6   Unnamed: 6                                                                                                                                                                                            26 non-null     object\n",
            " 7   Unnamed: 7                                                                                                                                                                                            27 non-null     object\n",
            " 8   Unnamed: 8                                                                                                                                                                                            27 non-null     object\n",
            " 9   Unnamed: 9                                                                                                                                                                                            28 non-null     object\n",
            " 10  Unnamed: 10                                                                                                                                                                                           26 non-null     object\n",
            "dtypes: object(11)\n",
            "memory usage: 2.5+ KB\n",
            "None\n"
          ]
        }
      ]
    },
    {
      "cell_type": "code",
      "source": [],
      "metadata": {
        "id": "4k-Voy11Dnmb"
      },
      "execution_count": null,
      "outputs": []
    },
    {
      "cell_type": "code",
      "source": [],
      "metadata": {
        "id": "OxawRC_XDnsc"
      },
      "execution_count": null,
      "outputs": []
    },
    {
      "cell_type": "code",
      "source": [],
      "metadata": {
        "id": "7tkGP_Tb2HnJ"
      },
      "execution_count": null,
      "outputs": []
    },
    {
      "cell_type": "code",
      "source": [],
      "metadata": {
        "id": "Kc0hDt5P2Hr4"
      },
      "execution_count": null,
      "outputs": []
    },
    {
      "cell_type": "code",
      "source": [],
      "metadata": {
        "id": "cnuHR1Pn2HvW"
      },
      "execution_count": null,
      "outputs": []
    }
  ]
}